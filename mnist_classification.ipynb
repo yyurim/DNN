{
 "cells": [
  {
   "cell_type": "code",
   "execution_count": 86,
   "metadata": {},
   "outputs": [],
   "source": [
    "import torch\n",
    "import torch.nn as nn\n",
    "import torch.nn.functional as F\n",
    "import torch.optim as optim\n",
    "from torchvision import datasets, transforms\n",
    "\n",
    "from IPython.display import Image\n",
    "from IPython import display\n",
    "import matplotlib.pyplot as plt\n",
    "import itertools"
   ]
  },
  {
   "cell_type": "code",
   "execution_count": 87,
   "metadata": {},
   "outputs": [],
   "source": [
    "batch_size = 64\n",
    "transformation = transforms.Compose( [transforms.ToTensor(), # image to Tensor\n",
    "                                    transforms.Normalize( (0.1307, ), (0.3081,) )] ) # normalize image\n",
    "\n",
    "train_dataset = datasets.MNIST('../data/mnist/train', download = True, train = True, transform = transformation)\n",
    "test_dataset = datasets.MNIST('../data/mnist/test', download = True, train = False, transform = transformation)\n",
    "\n",
    "train_loader = torch.utils.data.DataLoader(train_dataset, batch_size = batch_size, shuffle = True)\n",
    "test_loader = torch.utils.data.DataLoader(test_dataset, batch_size = batch_size, shuffle = True)"
   ]
  },
  {
   "cell_type": "code",
   "execution_count": 88,
   "metadata": {},
   "outputs": [
    {
     "data": {
      "text/plain": [
       "tensor([[[0]],\n",
       "\n",
       "        [[5]],\n",
       "\n",
       "        [[0]],\n",
       "\n",
       "        [[0]],\n",
       "\n",
       "        [[0]],\n",
       "\n",
       "        [[9]],\n",
       "\n",
       "        [[4]],\n",
       "\n",
       "        [[8]],\n",
       "\n",
       "        [[2]],\n",
       "\n",
       "        [[1]],\n",
       "\n",
       "        [[7]],\n",
       "\n",
       "        [[7]],\n",
       "\n",
       "        [[3]],\n",
       "\n",
       "        [[9]],\n",
       "\n",
       "        [[4]],\n",
       "\n",
       "        [[6]],\n",
       "\n",
       "        [[3]],\n",
       "\n",
       "        [[9]],\n",
       "\n",
       "        [[7]],\n",
       "\n",
       "        [[9]],\n",
       "\n",
       "        [[5]],\n",
       "\n",
       "        [[5]],\n",
       "\n",
       "        [[9]],\n",
       "\n",
       "        [[0]],\n",
       "\n",
       "        [[7]],\n",
       "\n",
       "        [[8]],\n",
       "\n",
       "        [[3]],\n",
       "\n",
       "        [[8]],\n",
       "\n",
       "        [[8]],\n",
       "\n",
       "        [[6]],\n",
       "\n",
       "        [[8]],\n",
       "\n",
       "        [[1]],\n",
       "\n",
       "        [[8]],\n",
       "\n",
       "        [[7]],\n",
       "\n",
       "        [[1]],\n",
       "\n",
       "        [[3]],\n",
       "\n",
       "        [[5]],\n",
       "\n",
       "        [[1]],\n",
       "\n",
       "        [[7]],\n",
       "\n",
       "        [[6]],\n",
       "\n",
       "        [[4]],\n",
       "\n",
       "        [[8]],\n",
       "\n",
       "        [[1]],\n",
       "\n",
       "        [[8]],\n",
       "\n",
       "        [[3]],\n",
       "\n",
       "        [[2]],\n",
       "\n",
       "        [[2]],\n",
       "\n",
       "        [[1]],\n",
       "\n",
       "        [[8]],\n",
       "\n",
       "        [[9]],\n",
       "\n",
       "        [[5]],\n",
       "\n",
       "        [[0]],\n",
       "\n",
       "        [[5]],\n",
       "\n",
       "        [[1]],\n",
       "\n",
       "        [[4]],\n",
       "\n",
       "        [[7]],\n",
       "\n",
       "        [[3]],\n",
       "\n",
       "        [[2]],\n",
       "\n",
       "        [[4]],\n",
       "\n",
       "        [[1]],\n",
       "\n",
       "        [[3]],\n",
       "\n",
       "        [[7]],\n",
       "\n",
       "        [[3]],\n",
       "\n",
       "        [[2]]])"
      ]
     },
     "execution_count": 88,
     "metadata": {},
     "output_type": "execute_result"
    }
   ],
   "source": [
    "input_size = 784                              # 28*28\n",
    "hidden_sizes = [ 196, 49 ]               # 14*14, 7*7\n",
    "output_size = 10\n",
    "\n",
    "num_batches = len(train_loader)     # batch를 원소로 갖는 행렬\n",
    "data = next(iter(train_loader))         # batch 단위로 데이터 저장\n",
    "images, labels = data\n",
    "images.resize_(images.shape[0], 1, input_size)\n",
    "labels.resize_(labels.shape[0], 1, 1)"
   ]
  },
  {
   "cell_type": "code",
   "execution_count": 90,
   "metadata": {},
   "outputs": [],
   "source": [
    "class MNISTClassifier(nn.Module):\n",
    "    \n",
    "    def __init__(self, input_size, hidden_size, output_size):\n",
    "        super(MNISTClassifier, self).__init__()\n",
    "        \n",
    "        self.sigmoid = nn.Sigmoid()\n",
    "        self.hidden1 = nn.Linear(input_size, hidden_sizes[0])      # hidden layer class num = 14*14\n",
    "        self.hidden2 = nn.Linear(hidden_sizes[0], hidden_sizes[1])          # hidden layer class num = 7*7\n",
    "        self.outputLayer = nn.Linear(hidden_sizes[1], output_size)        # final layer class num = 10\n",
    "                \n",
    "    \n",
    "    def forward(self, x):\n",
    "        \n",
    "        out = self.hidden1(x)\n",
    "        out = self.sigmoid(out) # torch.Tanh(out)\n",
    "        out = self.hidden2(out)\n",
    "        out = self.sigmoid(out) # torch.Tanh(out)\n",
    "        out = self.outputLayer(out) # torch.Softmax(out, dim=-1)\n",
    "        \n",
    "        return out"
   ]
  },
  {
   "cell_type": "code",
   "execution_count": 91,
   "metadata": {},
   "outputs": [],
   "source": [
    "mnist = MNISTClassifier(input_size, hidden_sizes, output_size)"
   ]
  },
  {
   "cell_type": "code",
   "execution_count": 92,
   "metadata": {},
   "outputs": [],
   "source": [
    "# loss\n",
    "criterion = nn.CrossEntropyLoss()\n",
    "# backpropagation method\n",
    "learning_rate = 1e-3\n",
    "optimizer = optim.Adam(mnist.parameters(), lr=learning_rate)"
   ]
  },
  {
   "cell_type": "code",
   "execution_count": 93,
   "metadata": {},
   "outputs": [
    {
     "data": {
      "image/png": "[encoded data removed]",
      "text/plain": [
       "<Figure size 432x432 with 8 Axes>"
      ]
     },
     "metadata": {},
     "output_type": "display_data"
    },
    {
     "name": "stdout",
     "output_type": "stream",
     "text": [
      "label: tensor([5, 7, 5, 2, 8, 6, 5, 6])\n",
      "prediction: tensor([3, 7, 5, 2, 8, 6, 5, 6], dtype=torch.int32)\n",
      "epoch: 10/10 | step: 900/938 | training loss: 5.4683 | test loss: 7.4162\n"
     ]
    },
    {
     "data": {
      "image/png": "[encoded data removed]",
      "text/plain": [
       "<Figure size 432x432 with 8 Axes>"
      ]
     },
     "metadata": {},
     "output_type": "display_data"
    }
   ],
   "source": [
    "num_epochs = 10\n",
    "# create figure for plotting\n",
    "row_num = 2\n",
    "col_num = 4\n",
    "\n",
    "fig, ax = plt.subplots(row_num, col_num, figsize=(6,6))\n",
    "for i, j in itertools.product(range(row_num), range(col_num)):\n",
    "    ax[i,j].get_xaxis().set_visible(False)\n",
    "    ax[i,j].get_yaxis().set_visible(False) \n",
    "    \n",
    "train_loss_list = []\n",
    "test_loss_list = []\n",
    "\n",
    "for epoch in range(num_epochs):\n",
    "    train_loss = 0.0\n",
    "    \n",
    "    for i, data in enumerate(train_loader):\n",
    "        images, label = data\n",
    "\n",
    "\n",
    "        for j, image in enumerate(images):\n",
    "            x = image.view(image.shape[0], -1)\n",
    "        \n",
    "            optimizer.zero_grad()\n",
    "            model_output = mnist(x)\n",
    "            loss = criterion(model_output, label[j].view(1))\n",
    "\n",
    "            loss.backward()\n",
    "\n",
    "            optimizer.step()\n",
    "\n",
    "            train_loss += loss.item()\n",
    "            \n",
    "            del loss\n",
    "            del model_output\n",
    "            \n",
    "            \n",
    "        if (i+1) % 100 == 0 :\n",
    "             with torch.no_grad():\n",
    "                    \n",
    "                test_loss = 0.0\n",
    "                    \n",
    "                for k, test in enumerate(test_loader):\n",
    "                    test_image, test_label = test\n",
    "                    prediction_label = torch.zeros(test_label.size(), dtype=torch.int32)\n",
    "                    \n",
    "                    for l, t_image in enumerate(test_image):\n",
    "                            \n",
    "                        test_x = t_image.view(t_image.shape[0], -1)\n",
    "                        test_output = mnist(test_x)\n",
    "                        prediction_label[l] = test_output.argmax(dim=1)\n",
    "                        t_loss = criterion(test_output, test_label[l].view(1))\n",
    "                        test_loss += t_loss.item()\n",
    "\n",
    "                for m in range(row_num*col_num):\n",
    "                    ii = m//col_num\n",
    "                    jj = m%col_num\n",
    "                    ax[ii,jj].cla()\n",
    "                    ax[ii,jj].imshow(test_image[m,:].data.cpu().numpy().reshape(28,28), cmap='Greys')\n",
    "\n",
    "                display.clear_output(wait=True)\n",
    "                display.display(plt.gcf()) \n",
    "\n",
    "                print(\"label: {}\".format(test_label[:row_num*col_num]))\n",
    "                print(\"prediction: {}\".format(prediction_label[:row_num*col_num]))\n",
    "                        \n",
    "                del test_output\n",
    "                del t_loss\n",
    "\n",
    "                print(\"epoch: {}/{} | step: {}/{} | training loss: {:.4f} | test loss: {:.4f}\".format(\n",
    "                    epoch+1, num_epochs, i+1, num_batches, train_loss / 100, test_loss/ len(test_loader)\n",
    "                ))            \n",
    "\n",
    "                train_loss_list.append(train_loss/100)\n",
    "                test_loss_list.append(test_loss/len(test_loader))\n",
    "                train_loss = 0.0"
   ]
  },
  {
   "cell_type": "code",
   "execution_count": 94,
   "metadata": {},
   "outputs": [
    {
     "data": {
      "text/plain": [
       "Text(0,0.5,'loss')"
      ]
     },
     "execution_count": 94,
     "metadata": {},
     "output_type": "execute_result"
    },
    {
     "data": {
      "image/png": "[encoded data removed]",
      "text/plain": [
       "<Figure size 1152x648 with 1 Axes>"
      ]
     },
     "metadata": {},
     "output_type": "display_data"
    }
   ],
   "source": [
    "plt.figure(figsize=(16,9))\n",
    "x_range = range(len(train_loss_list))\n",
    "plt.plot(x_range, train_loss_list, label=\"train\")\n",
    "plt.plot(x_range, test_loss_list, label=\"test\")\n",
    "plt.legend()\n",
    "plt.xlabel(\"training steps\")\n",
    "plt.ylabel(\"loss\")"
   ]
  },
  {
   "cell_type": "code",
   "execution_count": 95,
   "metadata": {},
   "outputs": [
    {
     "name": "stdout",
     "output_type": "stream",
     "text": [
      "acc: 96.77\n"
     ]
    }
   ],
   "source": [
    "# test acc\n",
    "with torch.no_grad():\n",
    "    corr_num = 0\n",
    "    total_num = 0\n",
    "    \n",
    "    for j, test in enumerate(test_loader):\n",
    "        test_image, test_label = test\n",
    "        prediction_label = torch.zeros(test_label.size(), dtype=torch.long)\n",
    "                    \n",
    "        for l, t_image in enumerate(test_image):\n",
    "            test_x = t_image.view(t_image.shape[0], -1)\n",
    "            test_output = mnist(test_x)\n",
    "            prediction_label[l] = test_output.argmax(dim=1)\n",
    "            t_loss = criterion(test_output, test_label[l].view(1))\n",
    "            test_loss += t_loss.item()\n",
    "        \n",
    "        corr = test_label[test_label == prediction_label].size(0)\n",
    "        corr_num += corr\n",
    "        total_num += test_label.size(0)\n",
    "\n",
    "\n",
    "print(\"acc: {:.2f}\".format(corr_num / total_num * 100))"
   ]
  },
  {
   "cell_type": "code",
   "execution_count": null,
   "metadata": {},
   "outputs": [],
   "source": []
  }
 ],
 "metadata": {
  "kernelspec": {
   "display_name": "Python 3",
   "language": "python",
   "name": "python3"
  },
  "language_info": {
   "codemirror_mode": {
    "name": "ipython",
    "version": 3
   },
   "file_extension": ".py",
   "mimetype": "text/x-python",
   "name": "python",
   "nbconvert_exporter": "python",
   "pygments_lexer": "ipython3",
   "version": "3.6.5"
  }
 },
 "nbformat": 4,
 "nbformat_minor": 2
}
